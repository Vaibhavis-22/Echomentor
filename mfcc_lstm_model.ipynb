{
 "cells": [
  {
   "cell_type": "code",
   "execution_count": 1,
   "id": "ecdb41bd",
   "metadata": {},
   "outputs": [],
   "source": [
    "import numpy as np\n",
    "import pandas as pd\n",
    "import tensorflow as tf"
   ]
  },
  {
   "cell_type": "code",
   "execution_count": 2,
   "id": "f74e7e73",
   "metadata": {},
   "outputs": [
    {
     "name": "stdout",
     "output_type": "stream",
     "text": [
      "3.1.1\n"
     ]
    }
   ],
   "source": [
    "import keras\n",
    "print(keras.__version__)\n",
    "\n"
   ]
  },
  {
   "cell_type": "code",
   "execution_count": 3,
   "id": "5d3fd99f",
   "metadata": {},
   "outputs": [
    {
     "name": "stdout",
     "output_type": "stream",
     "text": [
      "2.15.0\n"
     ]
    }
   ],
   "source": [
    "print(tf.__version__)"
   ]
  },
  {
   "cell_type": "code",
   "execution_count": 4,
   "id": "8c3b8615",
   "metadata": {},
   "outputs": [],
   "source": [
    "from tensorflow.keras.layers import Dense, Flatten, Input\n",
    "from tensorflow.keras.models import Model\n",
    "\n"
   ]
  },
  {
   "cell_type": "code",
   "execution_count": 5,
   "id": "14e1b86a",
   "metadata": {},
   "outputs": [],
   "source": [
    "df = pd.read_excel(\"final_mfcc.xlsx\")"
   ]
  },
  {
   "cell_type": "code",
   "execution_count": 6,
   "id": "c75ca89f",
   "metadata": {},
   "outputs": [
    {
     "data": {
      "text/html": [
       "<div>\n",
       "<style scoped>\n",
       "    .dataframe tbody tr th:only-of-type {\n",
       "        vertical-align: middle;\n",
       "    }\n",
       "\n",
       "    .dataframe tbody tr th {\n",
       "        vertical-align: top;\n",
       "    }\n",
       "\n",
       "    .dataframe thead th {\n",
       "        text-align: right;\n",
       "    }\n",
       "</style>\n",
       "<table border=\"1\" class=\"dataframe\">\n",
       "  <thead>\n",
       "    <tr style=\"text-align: right;\">\n",
       "      <th></th>\n",
       "      <th>Unnamed: 0</th>\n",
       "      <th>File Name</th>\n",
       "      <th>0</th>\n",
       "      <th>1</th>\n",
       "      <th>2</th>\n",
       "      <th>3</th>\n",
       "      <th>4</th>\n",
       "      <th>5</th>\n",
       "      <th>6</th>\n",
       "      <th>7</th>\n",
       "      <th>...</th>\n",
       "      <th>53</th>\n",
       "      <th>54</th>\n",
       "      <th>55</th>\n",
       "      <th>56</th>\n",
       "      <th>57</th>\n",
       "      <th>58</th>\n",
       "      <th>low</th>\n",
       "      <th>good</th>\n",
       "      <th>excellent</th>\n",
       "      <th>category</th>\n",
       "    </tr>\n",
       "  </thead>\n",
       "  <tbody>\n",
       "    <tr>\n",
       "      <th>0</th>\n",
       "      <td>0</td>\n",
       "      <td>29_audio.wav</td>\n",
       "      <td>-2.558627</td>\n",
       "      <td>-2.316059</td>\n",
       "      <td>-2.271928</td>\n",
       "      <td>-2.167459</td>\n",
       "      <td>-1.012644</td>\n",
       "      <td>-0.766544</td>\n",
       "      <td>-0.730626</td>\n",
       "      <td>-1.649334</td>\n",
       "      <td>...</td>\n",
       "      <td>0.501104</td>\n",
       "      <td>0.380764</td>\n",
       "      <td>0.364891</td>\n",
       "      <td>0.427991</td>\n",
       "      <td>0.439193</td>\n",
       "      <td>0.484969</td>\n",
       "      <td>0.709890</td>\n",
       "      <td>0.680682</td>\n",
       "      <td>0.702986</td>\n",
       "      <td>1</td>\n",
       "    </tr>\n",
       "    <tr>\n",
       "      <th>1</th>\n",
       "      <td>1</td>\n",
       "      <td>68_audio.wav</td>\n",
       "      <td>-2.980663</td>\n",
       "      <td>-2.736011</td>\n",
       "      <td>-0.521187</td>\n",
       "      <td>-0.848618</td>\n",
       "      <td>-0.707429</td>\n",
       "      <td>0.423838</td>\n",
       "      <td>0.410516</td>\n",
       "      <td>1.267307</td>\n",
       "      <td>...</td>\n",
       "      <td>0.000000</td>\n",
       "      <td>0.000000</td>\n",
       "      <td>0.000000</td>\n",
       "      <td>0.000000</td>\n",
       "      <td>0.000000</td>\n",
       "      <td>0.000000</td>\n",
       "      <td>0.000000</td>\n",
       "      <td>0.000000</td>\n",
       "      <td>0.000000</td>\n",
       "      <td>0</td>\n",
       "    </tr>\n",
       "    <tr>\n",
       "      <th>2</th>\n",
       "      <td>2</td>\n",
       "      <td>92_audio.wav</td>\n",
       "      <td>-2.492121</td>\n",
       "      <td>-2.465798</td>\n",
       "      <td>-2.489711</td>\n",
       "      <td>-2.413806</td>\n",
       "      <td>-1.183820</td>\n",
       "      <td>-1.316758</td>\n",
       "      <td>-0.989441</td>\n",
       "      <td>-1.236956</td>\n",
       "      <td>...</td>\n",
       "      <td>0.363995</td>\n",
       "      <td>0.025381</td>\n",
       "      <td>0.000000</td>\n",
       "      <td>0.000000</td>\n",
       "      <td>0.000000</td>\n",
       "      <td>0.000000</td>\n",
       "      <td>0.744238</td>\n",
       "      <td>0.678753</td>\n",
       "      <td>0.732652</td>\n",
       "      <td>1</td>\n",
       "    </tr>\n",
       "    <tr>\n",
       "      <th>3</th>\n",
       "      <td>3</td>\n",
       "      <td>167_audio.wav</td>\n",
       "      <td>-3.142767</td>\n",
       "      <td>-1.895777</td>\n",
       "      <td>-0.817423</td>\n",
       "      <td>-0.956117</td>\n",
       "      <td>0.305237</td>\n",
       "      <td>0.640528</td>\n",
       "      <td>1.312892</td>\n",
       "      <td>1.152519</td>\n",
       "      <td>...</td>\n",
       "      <td>0.000000</td>\n",
       "      <td>0.000000</td>\n",
       "      <td>0.000000</td>\n",
       "      <td>0.000000</td>\n",
       "      <td>0.000000</td>\n",
       "      <td>0.000000</td>\n",
       "      <td>0.000000</td>\n",
       "      <td>0.000000</td>\n",
       "      <td>0.000000</td>\n",
       "      <td>0</td>\n",
       "    </tr>\n",
       "    <tr>\n",
       "      <th>4</th>\n",
       "      <td>4</td>\n",
       "      <td>214_audio.wav</td>\n",
       "      <td>-2.754371</td>\n",
       "      <td>-2.753473</td>\n",
       "      <td>-2.753528</td>\n",
       "      <td>-0.933587</td>\n",
       "      <td>-0.711726</td>\n",
       "      <td>-0.917892</td>\n",
       "      <td>-1.716798</td>\n",
       "      <td>-1.058946</td>\n",
       "      <td>...</td>\n",
       "      <td>0.322358</td>\n",
       "      <td>-0.043042</td>\n",
       "      <td>0.000668</td>\n",
       "      <td>0.040334</td>\n",
       "      <td>0.112364</td>\n",
       "      <td>0.326456</td>\n",
       "      <td>0.000000</td>\n",
       "      <td>0.000000</td>\n",
       "      <td>0.000000</td>\n",
       "      <td>0</td>\n",
       "    </tr>\n",
       "  </tbody>\n",
       "</table>\n",
       "<p>5 rows × 65 columns</p>\n",
       "</div>"
      ],
      "text/plain": [
       "   Unnamed: 0      File Name         0         1         2         3  \\\n",
       "0           0   29_audio.wav -2.558627 -2.316059 -2.271928 -2.167459   \n",
       "1           1   68_audio.wav -2.980663 -2.736011 -0.521187 -0.848618   \n",
       "2           2   92_audio.wav -2.492121 -2.465798 -2.489711 -2.413806   \n",
       "3           3  167_audio.wav -3.142767 -1.895777 -0.817423 -0.956117   \n",
       "4           4  214_audio.wav -2.754371 -2.753473 -2.753528 -0.933587   \n",
       "\n",
       "          4         5         6         7  ...        53        54        55  \\\n",
       "0 -1.012644 -0.766544 -0.730626 -1.649334  ...  0.501104  0.380764  0.364891   \n",
       "1 -0.707429  0.423838  0.410516  1.267307  ...  0.000000  0.000000  0.000000   \n",
       "2 -1.183820 -1.316758 -0.989441 -1.236956  ...  0.363995  0.025381  0.000000   \n",
       "3  0.305237  0.640528  1.312892  1.152519  ...  0.000000  0.000000  0.000000   \n",
       "4 -0.711726 -0.917892 -1.716798 -1.058946  ...  0.322358 -0.043042  0.000668   \n",
       "\n",
       "         56        57        58       low      good  excellent  category  \n",
       "0  0.427991  0.439193  0.484969  0.709890  0.680682   0.702986         1  \n",
       "1  0.000000  0.000000  0.000000  0.000000  0.000000   0.000000         0  \n",
       "2  0.000000  0.000000  0.000000  0.744238  0.678753   0.732652         1  \n",
       "3  0.000000  0.000000  0.000000  0.000000  0.000000   0.000000         0  \n",
       "4  0.040334  0.112364  0.326456  0.000000  0.000000   0.000000         0  \n",
       "\n",
       "[5 rows x 65 columns]"
      ]
     },
     "execution_count": 6,
     "metadata": {},
     "output_type": "execute_result"
    }
   ],
   "source": [
    "df.head()"
   ]
  },
  {
   "cell_type": "code",
   "execution_count": 7,
   "id": "a0850fed",
   "metadata": {},
   "outputs": [
    {
     "data": {
      "text/plain": [
       "0        1\n",
       "1        0\n",
       "2        1\n",
       "3        0\n",
       "4        0\n",
       "        ..\n",
       "10016    1\n",
       "10017    2\n",
       "10018    1\n",
       "10019    3\n",
       "10020    3\n",
       "Name: category, Length: 10021, dtype: int64"
      ]
     },
     "execution_count": 7,
     "metadata": {},
     "output_type": "execute_result"
    }
   ],
   "source": [
    "df['category']"
   ]
  },
  {
   "cell_type": "code",
   "execution_count": 8,
   "id": "665caf8b",
   "metadata": {},
   "outputs": [],
   "source": [
    "\n",
    "import matplotlib.pyplot as plt\n"
   ]
  },
  {
   "cell_type": "code",
   "execution_count": 9,
   "id": "5579d2ef",
   "metadata": {},
   "outputs": [
    {
     "data": {
      "image/png": "[encoded data removed]",
      "text/plain": [
       "<Figure size 800x600 with 1 Axes>"
      ]
     },
     "metadata": {},
     "output_type": "display_data"
    }
   ],
   "source": [
    "\n",
    "# Count plot\n",
    "plt.figure(figsize=(8, 6))\n",
    "df['category'].value_counts().plot(kind='bar', color='skyblue')\n",
    "plt.title('Count Plot of Categories')\n",
    "plt.xlabel('Category')\n",
    "plt.ylabel('Count')\n",
    "plt.show()\n"
   ]
  },
  {
   "cell_type": "code",
   "execution_count": 10,
   "id": "0791d702",
   "metadata": {},
   "outputs": [
    {
     "name": "stdout",
     "output_type": "stream",
     "text": [
      "<class 'pandas.core.frame.DataFrame'>\n",
      "RangeIndex: 10021 entries, 0 to 10020\n",
      "Data columns (total 65 columns):\n",
      " #   Column      Non-Null Count  Dtype  \n",
      "---  ------      --------------  -----  \n",
      " 0   Unnamed: 0  10021 non-null  int64  \n",
      " 1   File Name   10021 non-null  object \n",
      " 2   0           10021 non-null  float64\n",
      " 3   1           10021 non-null  float64\n",
      " 4   2           10021 non-null  float64\n",
      " 5   3           10021 non-null  float64\n",
      " 6   4           10021 non-null  float64\n",
      " 7   5           10021 non-null  float64\n",
      " 8   6           10021 non-null  float64\n",
      " 9   7           10021 non-null  float64\n",
      " 10  8           10021 non-null  float64\n",
      " 11  9           10021 non-null  float64\n",
      " 12  10          10021 non-null  float64\n",
      " 13  11          10021 non-null  float64\n",
      " 14  12          10021 non-null  float64\n",
      " 15  13          10021 non-null  float64\n",
      " 16  14          10021 non-null  float64\n",
      " 17  15          10021 non-null  float64\n",
      " 18  16          10021 non-null  float64\n",
      " 19  17          10021 non-null  float64\n",
      " 20  18          10021 non-null  float64\n",
      " 21  19          10021 non-null  float64\n",
      " 22  20          10021 non-null  float64\n",
      " 23  21          10021 non-null  float64\n",
      " 24  22          10021 non-null  float64\n",
      " 25  23          10021 non-null  float64\n",
      " 26  24          10021 non-null  float64\n",
      " 27  25          10021 non-null  float64\n",
      " 28  26          10021 non-null  float64\n",
      " 29  27          10021 non-null  float64\n",
      " 30  28          10021 non-null  float64\n",
      " 31  29          10021 non-null  float64\n",
      " 32  30          10021 non-null  float64\n",
      " 33  31          10021 non-null  float64\n",
      " 34  32          10021 non-null  float64\n",
      " 35  33          10021 non-null  float64\n",
      " 36  34          10021 non-null  float64\n",
      " 37  35          10021 non-null  float64\n",
      " 38  36          10021 non-null  float64\n",
      " 39  37          10021 non-null  float64\n",
      " 40  38          10021 non-null  float64\n",
      " 41  39          10021 non-null  float64\n",
      " 42  40          10021 non-null  float64\n",
      " 43  41          10021 non-null  float64\n",
      " 44  42          10021 non-null  float64\n",
      " 45  43          10021 non-null  float64\n",
      " 46  44          10021 non-null  float64\n",
      " 47  45          10021 non-null  float64\n",
      " 48  46          10021 non-null  float64\n",
      " 49  47          10021 non-null  float64\n",
      " 50  48          10021 non-null  float64\n",
      " 51  49          10021 non-null  float64\n",
      " 52  50          10021 non-null  float64\n",
      " 53  51          10021 non-null  float64\n",
      " 54  52          10021 non-null  float64\n",
      " 55  53          10021 non-null  float64\n",
      " 56  54          10021 non-null  float64\n",
      " 57  55          10021 non-null  float64\n",
      " 58  56          10021 non-null  float64\n",
      " 59  57          10021 non-null  float64\n",
      " 60  58          10021 non-null  float64\n",
      " 61  low         10021 non-null  float64\n",
      " 62  good        10021 non-null  float64\n",
      " 63  excellent   10021 non-null  float64\n",
      " 64  category    10021 non-null  int64  \n",
      "dtypes: float64(62), int64(2), object(1)\n",
      "memory usage: 5.0+ MB\n"
     ]
    }
   ],
   "source": [
    "df.info()"
   ]
  },
  {
   "cell_type": "code",
   "execution_count": 11,
   "id": "65905d8c",
   "metadata": {},
   "outputs": [],
   "source": [
    "df.drop(['Unnamed: 0'], axis= 1 ,inplace = True)"
   ]
  },
  {
   "cell_type": "code",
   "execution_count": 12,
   "id": "b71a8309",
   "metadata": {},
   "outputs": [
    {
     "data": {
      "text/html": [
       "<div>\n",
       "<style scoped>\n",
       "    .dataframe tbody tr th:only-of-type {\n",
       "        vertical-align: middle;\n",
       "    }\n",
       "\n",
       "    .dataframe tbody tr th {\n",
       "        vertical-align: top;\n",
       "    }\n",
       "\n",
       "    .dataframe thead th {\n",
       "        text-align: right;\n",
       "    }\n",
       "</style>\n",
       "<table border=\"1\" class=\"dataframe\">\n",
       "  <thead>\n",
       "    <tr style=\"text-align: right;\">\n",
       "      <th></th>\n",
       "      <th>0</th>\n",
       "      <th>1</th>\n",
       "      <th>2</th>\n",
       "      <th>3</th>\n",
       "      <th>4</th>\n",
       "      <th>5</th>\n",
       "      <th>6</th>\n",
       "      <th>7</th>\n",
       "      <th>8</th>\n",
       "      <th>9</th>\n",
       "      <th>...</th>\n",
       "      <th>53</th>\n",
       "      <th>54</th>\n",
       "      <th>55</th>\n",
       "      <th>56</th>\n",
       "      <th>57</th>\n",
       "      <th>58</th>\n",
       "      <th>low</th>\n",
       "      <th>good</th>\n",
       "      <th>excellent</th>\n",
       "      <th>category</th>\n",
       "    </tr>\n",
       "  </thead>\n",
       "  <tbody>\n",
       "    <tr>\n",
       "      <th>count</th>\n",
       "      <td>10021.000000</td>\n",
       "      <td>10021.000000</td>\n",
       "      <td>10021.000000</td>\n",
       "      <td>10021.000000</td>\n",
       "      <td>10021.000000</td>\n",
       "      <td>10021.000000</td>\n",
       "      <td>10021.000000</td>\n",
       "      <td>10021.000000</td>\n",
       "      <td>10021.000000</td>\n",
       "      <td>10021.000000</td>\n",
       "      <td>...</td>\n",
       "      <td>10021.000000</td>\n",
       "      <td>10021.000000</td>\n",
       "      <td>10021.000000</td>\n",
       "      <td>10021.000000</td>\n",
       "      <td>10021.000000</td>\n",
       "      <td>10021.000000</td>\n",
       "      <td>10021.000000</td>\n",
       "      <td>10021.000000</td>\n",
       "      <td>10021.000000</td>\n",
       "      <td>10021.000000</td>\n",
       "    </tr>\n",
       "    <tr>\n",
       "      <th>mean</th>\n",
       "      <td>-2.933617</td>\n",
       "      <td>-2.379532</td>\n",
       "      <td>-1.993281</td>\n",
       "      <td>-1.528550</td>\n",
       "      <td>-1.235209</td>\n",
       "      <td>-1.292886</td>\n",
       "      <td>-1.307355</td>\n",
       "      <td>-1.175128</td>\n",
       "      <td>-0.962221</td>\n",
       "      <td>-0.698962</td>\n",
       "      <td>...</td>\n",
       "      <td>0.158317</td>\n",
       "      <td>0.160967</td>\n",
       "      <td>0.134690</td>\n",
       "      <td>0.125582</td>\n",
       "      <td>0.127189</td>\n",
       "      <td>0.127814</td>\n",
       "      <td>0.249496</td>\n",
       "      <td>0.376383</td>\n",
       "      <td>0.479972</td>\n",
       "      <td>1.492965</td>\n",
       "    </tr>\n",
       "    <tr>\n",
       "      <th>std</th>\n",
       "      <td>0.364519</td>\n",
       "      <td>0.453601</td>\n",
       "      <td>0.716084</td>\n",
       "      <td>0.718234</td>\n",
       "      <td>0.548814</td>\n",
       "      <td>0.566529</td>\n",
       "      <td>0.695869</td>\n",
       "      <td>0.913354</td>\n",
       "      <td>1.102119</td>\n",
       "      <td>1.220488</td>\n",
       "      <td>...</td>\n",
       "      <td>0.246662</td>\n",
       "      <td>0.247493</td>\n",
       "      <td>0.240409</td>\n",
       "      <td>0.224015</td>\n",
       "      <td>0.229172</td>\n",
       "      <td>0.226296</td>\n",
       "      <td>0.345568</td>\n",
       "      <td>0.327006</td>\n",
       "      <td>0.308181</td>\n",
       "      <td>1.088167</td>\n",
       "    </tr>\n",
       "    <tr>\n",
       "      <th>min</th>\n",
       "      <td>-4.741494</td>\n",
       "      <td>-3.775729</td>\n",
       "      <td>-3.598466</td>\n",
       "      <td>-3.281133</td>\n",
       "      <td>-3.208399</td>\n",
       "      <td>-3.420942</td>\n",
       "      <td>-3.414142</td>\n",
       "      <td>-3.375000</td>\n",
       "      <td>-3.500309</td>\n",
       "      <td>-3.645389</td>\n",
       "      <td>...</td>\n",
       "      <td>-2.271451</td>\n",
       "      <td>-2.449173</td>\n",
       "      <td>-2.085569</td>\n",
       "      <td>-2.351177</td>\n",
       "      <td>-2.396610</td>\n",
       "      <td>-2.000000</td>\n",
       "      <td>0.000000</td>\n",
       "      <td>0.000000</td>\n",
       "      <td>0.000000</td>\n",
       "      <td>0.000000</td>\n",
       "    </tr>\n",
       "    <tr>\n",
       "      <th>25%</th>\n",
       "      <td>-3.109447</td>\n",
       "      <td>-2.678609</td>\n",
       "      <td>-2.536146</td>\n",
       "      <td>-2.196407</td>\n",
       "      <td>-1.553076</td>\n",
       "      <td>-1.641057</td>\n",
       "      <td>-1.749152</td>\n",
       "      <td>-1.793964</td>\n",
       "      <td>-1.778772</td>\n",
       "      <td>-1.721834</td>\n",
       "      <td>...</td>\n",
       "      <td>0.000000</td>\n",
       "      <td>0.000000</td>\n",
       "      <td>0.000000</td>\n",
       "      <td>0.000000</td>\n",
       "      <td>0.000000</td>\n",
       "      <td>0.000000</td>\n",
       "      <td>0.000000</td>\n",
       "      <td>0.000000</td>\n",
       "      <td>0.000000</td>\n",
       "      <td>1.000000</td>\n",
       "    </tr>\n",
       "    <tr>\n",
       "      <th>50%</th>\n",
       "      <td>-2.893776</td>\n",
       "      <td>-2.422233</td>\n",
       "      <td>-2.224999</td>\n",
       "      <td>-1.409739</td>\n",
       "      <td>-1.203846</td>\n",
       "      <td>-1.300155</td>\n",
       "      <td>-1.360217</td>\n",
       "      <td>-1.346879</td>\n",
       "      <td>-1.248828</td>\n",
       "      <td>-1.004619</td>\n",
       "      <td>...</td>\n",
       "      <td>0.000000</td>\n",
       "      <td>0.000000</td>\n",
       "      <td>0.000000</td>\n",
       "      <td>0.000000</td>\n",
       "      <td>0.000000</td>\n",
       "      <td>0.000000</td>\n",
       "      <td>0.000000</td>\n",
       "      <td>0.617871</td>\n",
       "      <td>0.652550</td>\n",
       "      <td>1.000000</td>\n",
       "    </tr>\n",
       "    <tr>\n",
       "      <th>75%</th>\n",
       "      <td>-2.704725</td>\n",
       "      <td>-2.157335</td>\n",
       "      <td>-1.428597</td>\n",
       "      <td>-0.965483</td>\n",
       "      <td>-0.867136</td>\n",
       "      <td>-0.935168</td>\n",
       "      <td>-0.953588</td>\n",
       "      <td>-0.797128</td>\n",
       "      <td>0.304377</td>\n",
       "      <td>0.440149</td>\n",
       "      <td>...</td>\n",
       "      <td>0.317032</td>\n",
       "      <td>0.321789</td>\n",
       "      <td>0.270220</td>\n",
       "      <td>0.256979</td>\n",
       "      <td>0.254301</td>\n",
       "      <td>0.261261</td>\n",
       "      <td>0.713883</td>\n",
       "      <td>0.666188</td>\n",
       "      <td>0.695177</td>\n",
       "      <td>3.000000</td>\n",
       "    </tr>\n",
       "    <tr>\n",
       "      <th>max</th>\n",
       "      <td>-1.345597</td>\n",
       "      <td>0.061582</td>\n",
       "      <td>0.395263</td>\n",
       "      <td>0.437753</td>\n",
       "      <td>0.639872</td>\n",
       "      <td>1.514344</td>\n",
       "      <td>1.558657</td>\n",
       "      <td>1.558757</td>\n",
       "      <td>1.892567</td>\n",
       "      <td>1.910836</td>\n",
       "      <td>...</td>\n",
       "      <td>1.430815</td>\n",
       "      <td>1.720376</td>\n",
       "      <td>1.632915</td>\n",
       "      <td>1.691118</td>\n",
       "      <td>1.635881</td>\n",
       "      <td>1.356163</td>\n",
       "      <td>0.784786</td>\n",
       "      <td>0.747311</td>\n",
       "      <td>0.762822</td>\n",
       "      <td>3.000000</td>\n",
       "    </tr>\n",
       "  </tbody>\n",
       "</table>\n",
       "<p>8 rows × 63 columns</p>\n",
       "</div>"
      ],
      "text/plain": [
       "                  0             1             2             3             4  \\\n",
       "count  10021.000000  10021.000000  10021.000000  10021.000000  10021.000000   \n",
       "mean      -2.933617     -2.379532     -1.993281     -1.528550     -1.235209   \n",
       "std        0.364519      0.453601      0.716084      0.718234      0.548814   \n",
       "min       -4.741494     -3.775729     -3.598466     -3.281133     -3.208399   \n",
       "25%       -3.109447     -2.678609     -2.536146     -2.196407     -1.553076   \n",
       "50%       -2.893776     -2.422233     -2.224999     -1.409739     -1.203846   \n",
       "75%       -2.704725     -2.157335     -1.428597     -0.965483     -0.867136   \n",
       "max       -1.345597      0.061582      0.395263      0.437753      0.639872   \n",
       "\n",
       "                  5             6             7             8             9  \\\n",
       "count  10021.000000  10021.000000  10021.000000  10021.000000  10021.000000   \n",
       "mean      -1.292886     -1.307355     -1.175128     -0.962221     -0.698962   \n",
       "std        0.566529      0.695869      0.913354      1.102119      1.220488   \n",
       "min       -3.420942     -3.414142     -3.375000     -3.500309     -3.645389   \n",
       "25%       -1.641057     -1.749152     -1.793964     -1.778772     -1.721834   \n",
       "50%       -1.300155     -1.360217     -1.346879     -1.248828     -1.004619   \n",
       "75%       -0.935168     -0.953588     -0.797128      0.304377      0.440149   \n",
       "max        1.514344      1.558657      1.558757      1.892567      1.910836   \n",
       "\n",
       "       ...            53            54            55            56  \\\n",
       "count  ...  10021.000000  10021.000000  10021.000000  10021.000000   \n",
       "mean   ...      0.158317      0.160967      0.134690      0.125582   \n",
       "std    ...      0.246662      0.247493      0.240409      0.224015   \n",
       "min    ...     -2.271451     -2.449173     -2.085569     -2.351177   \n",
       "25%    ...      0.000000      0.000000      0.000000      0.000000   \n",
       "50%    ...      0.000000      0.000000      0.000000      0.000000   \n",
       "75%    ...      0.317032      0.321789      0.270220      0.256979   \n",
       "max    ...      1.430815      1.720376      1.632915      1.691118   \n",
       "\n",
       "                 57            58           low          good     excellent  \\\n",
       "count  10021.000000  10021.000000  10021.000000  10021.000000  10021.000000   \n",
       "mean       0.127189      0.127814      0.249496      0.376383      0.479972   \n",
       "std        0.229172      0.226296      0.345568      0.327006      0.308181   \n",
       "min       -2.396610     -2.000000      0.000000      0.000000      0.000000   \n",
       "25%        0.000000      0.000000      0.000000      0.000000      0.000000   \n",
       "50%        0.000000      0.000000      0.000000      0.617871      0.652550   \n",
       "75%        0.254301      0.261261      0.713883      0.666188      0.695177   \n",
       "max        1.635881      1.356163      0.784786      0.747311      0.762822   \n",
       "\n",
       "           category  \n",
       "count  10021.000000  \n",
       "mean       1.492965  \n",
       "std        1.088167  \n",
       "min        0.000000  \n",
       "25%        1.000000  \n",
       "50%        1.000000  \n",
       "75%        3.000000  \n",
       "max        3.000000  \n",
       "\n",
       "[8 rows x 63 columns]"
      ]
     },
     "execution_count": 12,
     "metadata": {},
     "output_type": "execute_result"
    }
   ],
   "source": [
    "df.describe()"
   ]
  },
  {
   "cell_type": "code",
   "execution_count": 13,
   "id": "435c858d",
   "metadata": {},
   "outputs": [],
   "source": [
    "df.drop(['low','good','excellent'],axis = 1 ,inplace = True)"
   ]
  },
  {
   "cell_type": "code",
   "execution_count": 14,
   "id": "cabe2f71",
   "metadata": {},
   "outputs": [
    {
     "name": "stdout",
     "output_type": "stream",
     "text": [
      "<class 'pandas.core.frame.DataFrame'>\n",
      "RangeIndex: 10021 entries, 0 to 10020\n",
      "Data columns (total 61 columns):\n",
      " #   Column     Non-Null Count  Dtype  \n",
      "---  ------     --------------  -----  \n",
      " 0   File Name  10021 non-null  object \n",
      " 1   0          10021 non-null  float64\n",
      " 2   1          10021 non-null  float64\n",
      " 3   2          10021 non-null  float64\n",
      " 4   3          10021 non-null  float64\n",
      " 5   4          10021 non-null  float64\n",
      " 6   5          10021 non-null  float64\n",
      " 7   6          10021 non-null  float64\n",
      " 8   7          10021 non-null  float64\n",
      " 9   8          10021 non-null  float64\n",
      " 10  9          10021 non-null  float64\n",
      " 11  10         10021 non-null  float64\n",
      " 12  11         10021 non-null  float64\n",
      " 13  12         10021 non-null  float64\n",
      " 14  13         10021 non-null  float64\n",
      " 15  14         10021 non-null  float64\n",
      " 16  15         10021 non-null  float64\n",
      " 17  16         10021 non-null  float64\n",
      " 18  17         10021 non-null  float64\n",
      " 19  18         10021 non-null  float64\n",
      " 20  19         10021 non-null  float64\n",
      " 21  20         10021 non-null  float64\n",
      " 22  21         10021 non-null  float64\n",
      " 23  22         10021 non-null  float64\n",
      " 24  23         10021 non-null  float64\n",
      " 25  24         10021 non-null  float64\n",
      " 26  25         10021 non-null  float64\n",
      " 27  26         10021 non-null  float64\n",
      " 28  27         10021 non-null  float64\n",
      " 29  28         10021 non-null  float64\n",
      " 30  29         10021 non-null  float64\n",
      " 31  30         10021 non-null  float64\n",
      " 32  31         10021 non-null  float64\n",
      " 33  32         10021 non-null  float64\n",
      " 34  33         10021 non-null  float64\n",
      " 35  34         10021 non-null  float64\n",
      " 36  35         10021 non-null  float64\n",
      " 37  36         10021 non-null  float64\n",
      " 38  37         10021 non-null  float64\n",
      " 39  38         10021 non-null  float64\n",
      " 40  39         10021 non-null  float64\n",
      " 41  40         10021 non-null  float64\n",
      " 42  41         10021 non-null  float64\n",
      " 43  42         10021 non-null  float64\n",
      " 44  43         10021 non-null  float64\n",
      " 45  44         10021 non-null  float64\n",
      " 46  45         10021 non-null  float64\n",
      " 47  46         10021 non-null  float64\n",
      " 48  47         10021 non-null  float64\n",
      " 49  48         10021 non-null  float64\n",
      " 50  49         10021 non-null  float64\n",
      " 51  50         10021 non-null  float64\n",
      " 52  51         10021 non-null  float64\n",
      " 53  52         10021 non-null  float64\n",
      " 54  53         10021 non-null  float64\n",
      " 55  54         10021 non-null  float64\n",
      " 56  55         10021 non-null  float64\n",
      " 57  56         10021 non-null  float64\n",
      " 58  57         10021 non-null  float64\n",
      " 59  58         10021 non-null  float64\n",
      " 60  category   10021 non-null  int64  \n",
      "dtypes: float64(59), int64(1), object(1)\n",
      "memory usage: 4.7+ MB\n"
     ]
    }
   ],
   "source": [
    "df.info()"
   ]
  },
  {
   "cell_type": "code",
   "execution_count": 15,
   "id": "1927d447",
   "metadata": {},
   "outputs": [],
   "source": [
    "df.drop(['File Name'],axis =1, inplace = True)"
   ]
  },
  {
   "cell_type": "code",
   "execution_count": 16,
   "id": "3c93e28a",
   "metadata": {},
   "outputs": [],
   "source": [
    "sample_df = df"
   ]
  },
  {
   "cell_type": "code",
   "execution_count": 17,
   "id": "866d12c9",
   "metadata": {},
   "outputs": [],
   "source": [
    "X = sample_df.drop(['category'],axis = 1) "
   ]
  },
  {
   "cell_type": "code",
   "execution_count": 18,
   "id": "955c13d4",
   "metadata": {},
   "outputs": [],
   "source": [
    "Y = df['category']"
   ]
  },
  {
   "cell_type": "code",
   "execution_count": 19,
   "id": "843e636d",
   "metadata": {},
   "outputs": [
    {
     "data": {
      "text/plain": [
       "(10021, 59)"
      ]
     },
     "execution_count": 19,
     "metadata": {},
     "output_type": "execute_result"
    }
   ],
   "source": [
    "X.shape"
   ]
  },
  {
   "cell_type": "code",
   "execution_count": 20,
   "id": "4b108b9d",
   "metadata": {},
   "outputs": [
    {
     "data": {
      "text/plain": [
       "(10021,)"
      ]
     },
     "execution_count": 20,
     "metadata": {},
     "output_type": "execute_result"
    }
   ],
   "source": [
    "Y.shape"
   ]
  },
  {
   "cell_type": "code",
   "execution_count": 21,
   "id": "556ac9a7",
   "metadata": {},
   "outputs": [],
   "source": [
    "from sklearn.model_selection import train_test_split"
   ]
  },
  {
   "cell_type": "code",
   "execution_count": 52,
   "id": "24fe4dc4",
   "metadata": {},
   "outputs": [],
   "source": [
    "X_train,X_test,Y_train,Y_test = train_test_split(X,Y, test_size=0.20,random_state=20)"
   ]
  },
  {
   "cell_type": "code",
   "execution_count": 53,
   "id": "85bb2b14",
   "metadata": {},
   "outputs": [
    {
     "name": "stdout",
     "output_type": "stream",
     "text": [
      "(8016, 59) (2005, 59)\n"
     ]
    }
   ],
   "source": [
    "print(X_train.shape, X_test.shape)"
   ]
  },
  {
   "cell_type": "code",
   "execution_count": 54,
   "id": "5fab56dd",
   "metadata": {},
   "outputs": [],
   "source": [
    "x_traincnn = np.expand_dims(X_train, axis=2)\n",
    "x_testcnn = np.expand_dims(X_test, axis=2)"
   ]
  },
  {
   "cell_type": "code",
   "execution_count": 55,
   "id": "3dfbd3b7",
   "metadata": {},
   "outputs": [
    {
     "name": "stdout",
     "output_type": "stream",
     "text": [
      "(8016, 59, 1) (2005, 59, 1)\n"
     ]
    }
   ],
   "source": [
    "print(x_traincnn.shape, x_testcnn.shape)"
   ]
  },
  {
   "cell_type": "code",
   "execution_count": 56,
   "id": "ccd82485",
   "metadata": {},
   "outputs": [
    {
     "name": "stderr",
     "output_type": "stream",
     "text": [
      "C:\\Users\\Vaibhavi\\anaconda3\\Lib\\site-packages\\keras\\src\\layers\\rnn\\rnn.py:204: UserWarning: Do not pass an `input_shape`/`input_dim` argument to a layer. When using Sequential models, prefer using an `Input(shape)` object as the first layer in the model instead.\n",
      "  super().__init__(**kwargs)\n"
     ]
    },
    {
     "data": {
      "text/html": [
       "<pre style=\"white-space:pre;overflow-x:auto;line-height:normal;font-family:Menlo,'DejaVu Sans Mono',consolas,'Courier New',monospace\"><span style=\"font-weight: bold\">Model: \"sequential_2\"</span>\n",
       "</pre>\n"
      ],
      "text/plain": [
       "\u001b[1mModel: \"sequential_2\"\u001b[0m\n"
      ]
     },
     "metadata": {},
     "output_type": "display_data"
    },
    {
     "data": {
      "text/html": [
       "<pre style=\"white-space:pre;overflow-x:auto;line-height:normal;font-family:Menlo,'DejaVu Sans Mono',consolas,'Courier New',monospace\">┏━━━━━━━━━━━━━━━━━━━━━━━━━━━━━━━━━━━━━━┳━━━━━━━━━━━━━━━━━━━━━━━━━━━━━┳━━━━━━━━━━━━━━━━━┓\n",
       "┃<span style=\"font-weight: bold\"> Layer (type)                         </span>┃<span style=\"font-weight: bold\"> Output Shape                </span>┃<span style=\"font-weight: bold\">         Param # </span>┃\n",
       "┡━━━━━━━━━━━━━━━━━━━━━━━━━━━━━━━━━━━━━━╇━━━━━━━━━━━━━━━━━━━━━━━━━━━━━╇━━━━━━━━━━━━━━━━━┩\n",
       "│ lstm_6 (<span style=\"color: #0087ff; text-decoration-color: #0087ff\">LSTM</span>)                        │ (<span style=\"color: #00d7ff; text-decoration-color: #00d7ff\">None</span>, <span style=\"color: #00af00; text-decoration-color: #00af00\">59</span>, <span style=\"color: #00af00; text-decoration-color: #00af00\">128</span>)             │          <span style=\"color: #00af00; text-decoration-color: #00af00\">66,560</span> │\n",
       "├──────────────────────────────────────┼─────────────────────────────┼─────────────────┤\n",
       "│ dropout_4 (<span style=\"color: #0087ff; text-decoration-color: #0087ff\">Dropout</span>)                  │ (<span style=\"color: #00d7ff; text-decoration-color: #00d7ff\">None</span>, <span style=\"color: #00af00; text-decoration-color: #00af00\">59</span>, <span style=\"color: #00af00; text-decoration-color: #00af00\">128</span>)             │               <span style=\"color: #00af00; text-decoration-color: #00af00\">0</span> │\n",
       "├──────────────────────────────────────┼─────────────────────────────┼─────────────────┤\n",
       "│ lstm_7 (<span style=\"color: #0087ff; text-decoration-color: #0087ff\">LSTM</span>)                        │ (<span style=\"color: #00d7ff; text-decoration-color: #00d7ff\">None</span>, <span style=\"color: #00af00; text-decoration-color: #00af00\">59</span>, <span style=\"color: #00af00; text-decoration-color: #00af00\">64</span>)              │          <span style=\"color: #00af00; text-decoration-color: #00af00\">49,408</span> │\n",
       "├──────────────────────────────────────┼─────────────────────────────┼─────────────────┤\n",
       "│ dropout_5 (<span style=\"color: #0087ff; text-decoration-color: #0087ff\">Dropout</span>)                  │ (<span style=\"color: #00d7ff; text-decoration-color: #00d7ff\">None</span>, <span style=\"color: #00af00; text-decoration-color: #00af00\">59</span>, <span style=\"color: #00af00; text-decoration-color: #00af00\">64</span>)              │               <span style=\"color: #00af00; text-decoration-color: #00af00\">0</span> │\n",
       "├──────────────────────────────────────┼─────────────────────────────┼─────────────────┤\n",
       "│ lstm_8 (<span style=\"color: #0087ff; text-decoration-color: #0087ff\">LSTM</span>)                        │ (<span style=\"color: #00d7ff; text-decoration-color: #00d7ff\">None</span>, <span style=\"color: #00af00; text-decoration-color: #00af00\">32</span>)                  │          <span style=\"color: #00af00; text-decoration-color: #00af00\">12,416</span> │\n",
       "├──────────────────────────────────────┼─────────────────────────────┼─────────────────┤\n",
       "│ dense_4 (<span style=\"color: #0087ff; text-decoration-color: #0087ff\">Dense</span>)                      │ (<span style=\"color: #00d7ff; text-decoration-color: #00d7ff\">None</span>, <span style=\"color: #00af00; text-decoration-color: #00af00\">32</span>)                  │           <span style=\"color: #00af00; text-decoration-color: #00af00\">1,056</span> │\n",
       "├──────────────────────────────────────┼─────────────────────────────┼─────────────────┤\n",
       "│ dense_5 (<span style=\"color: #0087ff; text-decoration-color: #0087ff\">Dense</span>)                      │ (<span style=\"color: #00d7ff; text-decoration-color: #00d7ff\">None</span>, <span style=\"color: #00af00; text-decoration-color: #00af00\">4</span>)                   │             <span style=\"color: #00af00; text-decoration-color: #00af00\">132</span> │\n",
       "└──────────────────────────────────────┴─────────────────────────────┴─────────────────┘\n",
       "</pre>\n"
      ],
      "text/plain": [
       "┏━━━━━━━━━━━━━━━━━━━━━━━━━━━━━━━━━━━━━━┳━━━━━━━━━━━━━━━━━━━━━━━━━━━━━┳━━━━━━━━━━━━━━━━━┓\n",
       "┃\u001b[1m \u001b[0m\u001b[1mLayer (type)                        \u001b[0m\u001b[1m \u001b[0m┃\u001b[1m \u001b[0m\u001b[1mOutput Shape               \u001b[0m\u001b[1m \u001b[0m┃\u001b[1m \u001b[0m\u001b[1m        Param #\u001b[0m\u001b[1m \u001b[0m┃\n",
       "┡━━━━━━━━━━━━━━━━━━━━━━━━━━━━━━━━━━━━━━╇━━━━━━━━━━━━━━━━━━━━━━━━━━━━━╇━━━━━━━━━━━━━━━━━┩\n",
       "│ lstm_6 (\u001b[38;5;33mLSTM\u001b[0m)                        │ (\u001b[38;5;45mNone\u001b[0m, \u001b[38;5;34m59\u001b[0m, \u001b[38;5;34m128\u001b[0m)             │          \u001b[38;5;34m66,560\u001b[0m │\n",
       "├──────────────────────────────────────┼─────────────────────────────┼─────────────────┤\n",
       "│ dropout_4 (\u001b[38;5;33mDropout\u001b[0m)                  │ (\u001b[38;5;45mNone\u001b[0m, \u001b[38;5;34m59\u001b[0m, \u001b[38;5;34m128\u001b[0m)             │               \u001b[38;5;34m0\u001b[0m │\n",
       "├──────────────────────────────────────┼─────────────────────────────┼─────────────────┤\n",
       "│ lstm_7 (\u001b[38;5;33mLSTM\u001b[0m)                        │ (\u001b[38;5;45mNone\u001b[0m, \u001b[38;5;34m59\u001b[0m, \u001b[38;5;34m64\u001b[0m)              │          \u001b[38;5;34m49,408\u001b[0m │\n",
       "├──────────────────────────────────────┼─────────────────────────────┼─────────────────┤\n",
       "│ dropout_5 (\u001b[38;5;33mDropout\u001b[0m)                  │ (\u001b[38;5;45mNone\u001b[0m, \u001b[38;5;34m59\u001b[0m, \u001b[38;5;34m64\u001b[0m)              │               \u001b[38;5;34m0\u001b[0m │\n",
       "├──────────────────────────────────────┼─────────────────────────────┼─────────────────┤\n",
       "│ lstm_8 (\u001b[38;5;33mLSTM\u001b[0m)                        │ (\u001b[38;5;45mNone\u001b[0m, \u001b[38;5;34m32\u001b[0m)                  │          \u001b[38;5;34m12,416\u001b[0m │\n",
       "├──────────────────────────────────────┼─────────────────────────────┼─────────────────┤\n",
       "│ dense_4 (\u001b[38;5;33mDense\u001b[0m)                      │ (\u001b[38;5;45mNone\u001b[0m, \u001b[38;5;34m32\u001b[0m)                  │           \u001b[38;5;34m1,056\u001b[0m │\n",
       "├──────────────────────────────────────┼─────────────────────────────┼─────────────────┤\n",
       "│ dense_5 (\u001b[38;5;33mDense\u001b[0m)                      │ (\u001b[38;5;45mNone\u001b[0m, \u001b[38;5;34m4\u001b[0m)                   │             \u001b[38;5;34m132\u001b[0m │\n",
       "└──────────────────────────────────────┴─────────────────────────────┴─────────────────┘\n"
      ]
     },
     "metadata": {},
     "output_type": "display_data"
    },
    {
     "data": {
      "text/html": [
       "<pre style=\"white-space:pre;overflow-x:auto;line-height:normal;font-family:Menlo,'DejaVu Sans Mono',consolas,'Courier New',monospace\"><span style=\"font-weight: bold\"> Total params: </span><span style=\"color: #00af00; text-decoration-color: #00af00\">129,572</span> (506.14 KB)\n",
       "</pre>\n"
      ],
      "text/plain": [
       "\u001b[1m Total params: \u001b[0m\u001b[38;5;34m129,572\u001b[0m (506.14 KB)\n"
      ]
     },
     "metadata": {},
     "output_type": "display_data"
    },
    {
     "data": {
      "text/html": [
       "<pre style=\"white-space:pre;overflow-x:auto;line-height:normal;font-family:Menlo,'DejaVu Sans Mono',consolas,'Courier New',monospace\"><span style=\"font-weight: bold\"> Trainable params: </span><span style=\"color: #00af00; text-decoration-color: #00af00\">129,572</span> (506.14 KB)\n",
       "</pre>\n"
      ],
      "text/plain": [
       "\u001b[1m Trainable params: \u001b[0m\u001b[38;5;34m129,572\u001b[0m (506.14 KB)\n"
      ]
     },
     "metadata": {},
     "output_type": "display_data"
    },
    {
     "data": {
      "text/html": [
       "<pre style=\"white-space:pre;overflow-x:auto;line-height:normal;font-family:Menlo,'DejaVu Sans Mono',consolas,'Courier New',monospace\"><span style=\"font-weight: bold\"> Non-trainable params: </span><span style=\"color: #00af00; text-decoration-color: #00af00\">0</span> (0.00 B)\n",
       "</pre>\n"
      ],
      "text/plain": [
       "\u001b[1m Non-trainable params: \u001b[0m\u001b[38;5;34m0\u001b[0m (0.00 B)\n"
      ]
     },
     "metadata": {},
     "output_type": "display_data"
    }
   ],
   "source": [
    "\n",
    "\n",
    "# Define the input shape\n",
    "input_shape = (59,1 )\n",
    "\n",
    "# Define the number of classes\n",
    "num_classes = 4\n",
    "\n",
    "# Define the LSTM model\n",
    "model = tf.keras.Sequential([\n",
    "    tf.keras.layers.LSTM(128, input_shape=input_shape, return_sequences=True),\n",
    "    tf.keras.layers.Dropout(0.2),\n",
    "    tf.keras.layers.LSTM(64, return_sequences=True),\n",
    "    tf.keras.layers.Dropout(0.2),\n",
    "    tf.keras.layers.LSTM(32),\n",
    "    tf.keras.layers.Dense(32, activation='relu'),\n",
    "    tf.keras.layers.Dense(num_classes, activation='softmax')\n",
    "])\n",
    "\n",
    "# Compile the model\n",
    "model.compile(optimizer='adam',\n",
    "              loss='sparse_categorical_crossentropy',\n",
    "              metrics=['accuracy'])\n",
    "\n",
    "# Print the model summary\n",
    "model.summary()\n"
   ]
  },
  {
   "cell_type": "code",
   "execution_count": 57,
   "id": "2e5fd2d9",
   "metadata": {},
   "outputs": [
    {
     "name": "stdout",
     "output_type": "stream",
     "text": [
      "Epoch 1/10\n",
      "\u001b[1m251/251\u001b[0m \u001b[32m━━━━━━━━━━━━━━━━━━━━\u001b[0m\u001b[37m\u001b[0m \u001b[1m44s\u001b[0m 143ms/step - accuracy: 0.5864 - loss: 0.9496 - val_accuracy: 0.7701 - val_loss: 0.5586\n",
      "Epoch 2/10\n",
      "\u001b[1m251/251\u001b[0m \u001b[32m━━━━━━━━━━━━━━━━━━━━\u001b[0m\u001b[37m\u001b[0m \u001b[1m48s\u001b[0m 171ms/step - accuracy: 0.7897 - loss: 0.5161 - val_accuracy: 0.7471 - val_loss: 0.5685\n",
      "Epoch 3/10\n",
      "\u001b[1m251/251\u001b[0m \u001b[32m━━━━━━━━━━━━━━━━━━━━\u001b[0m\u001b[37m\u001b[0m \u001b[1m39s\u001b[0m 156ms/step - accuracy: 0.8180 - loss: 0.4437 - val_accuracy: 0.8125 - val_loss: 0.4654\n",
      "Epoch 4/10\n",
      "\u001b[1m251/251\u001b[0m \u001b[32m━━━━━━━━━━━━━━━━━━━━\u001b[0m\u001b[37m\u001b[0m \u001b[1m37s\u001b[0m 146ms/step - accuracy: 0.8521 - loss: 0.3691 - val_accuracy: 0.8833 - val_loss: 0.3089\n",
      "Epoch 5/10\n",
      "\u001b[1m251/251\u001b[0m \u001b[32m━━━━━━━━━━━━━━━━━━━━\u001b[0m\u001b[37m\u001b[0m \u001b[1m38s\u001b[0m 152ms/step - accuracy: 0.8748 - loss: 0.3060 - val_accuracy: 0.8594 - val_loss: 0.3487\n",
      "Epoch 6/10\n",
      "\u001b[1m251/251\u001b[0m \u001b[32m━━━━━━━━━━━━━━━━━━━━\u001b[0m\u001b[37m\u001b[0m \u001b[1m43s\u001b[0m 171ms/step - accuracy: 0.8886 - loss: 0.2884 - val_accuracy: 0.8259 - val_loss: 0.4545\n",
      "Epoch 7/10\n",
      "\u001b[1m251/251\u001b[0m \u001b[32m━━━━━━━━━━━━━━━━━━━━\u001b[0m\u001b[37m\u001b[0m \u001b[1m41s\u001b[0m 162ms/step - accuracy: 0.8785 - loss: 0.2912 - val_accuracy: 0.8504 - val_loss: 0.3671\n",
      "Epoch 8/10\n",
      "\u001b[1m251/251\u001b[0m \u001b[32m━━━━━━━━━━━━━━━━━━━━\u001b[0m\u001b[37m\u001b[0m \u001b[1m38s\u001b[0m 153ms/step - accuracy: 0.8890 - loss: 0.2828 - val_accuracy: 0.8998 - val_loss: 0.2512\n",
      "Epoch 9/10\n",
      "\u001b[1m251/251\u001b[0m \u001b[32m━━━━━━━━━━━━━━━━━━━━\u001b[0m\u001b[37m\u001b[0m \u001b[1m33s\u001b[0m 121ms/step - accuracy: 0.8874 - loss: 0.2948 - val_accuracy: 0.8354 - val_loss: 0.3860\n",
      "Epoch 10/10\n",
      "\u001b[1m251/251\u001b[0m \u001b[32m━━━━━━━━━━━━━━━━━━━━\u001b[0m\u001b[37m\u001b[0m \u001b[1m56s\u001b[0m 222ms/step - accuracy: 0.8863 - loss: 0.2760 - val_accuracy: 0.8608 - val_loss: 0.3141\n"
     ]
    }
   ],
   "source": [
    "history = model.fit(x_traincnn, Y_train, epochs=10, validation_data=(X_test, Y_test))"
   ]
  },
  {
   "cell_type": "code",
   "execution_count": 58,
   "id": "f0b20d6d",
   "metadata": {},
   "outputs": [
    {
     "name": "stdout",
     "output_type": "stream",
     "text": [
      "\u001b[1m63/63\u001b[0m \u001b[32m━━━━━━━━━━━━━━━━━━━━\u001b[0m\u001b[37m\u001b[0m \u001b[1m2s\u001b[0m 32ms/step - accuracy: 0.8577 - loss: 0.3154\n"
     ]
    },
    {
     "data": {
      "text/plain": [
       "[0.3140966594219208, 0.8608478903770447]"
      ]
     },
     "execution_count": 58,
     "metadata": {},
     "output_type": "execute_result"
    }
   ],
   "source": [
    "model.evaluate(X_test, Y_test)"
   ]
  },
  {
   "cell_type": "code",
   "execution_count": 59,
   "id": "b2d3f70e",
   "metadata": {},
   "outputs": [
    {
     "name": "stdout",
     "output_type": "stream",
     "text": [
      "\u001b[1m63/63\u001b[0m \u001b[32m━━━━━━━━━━━━━━━━━━━━\u001b[0m\u001b[37m\u001b[0m \u001b[1m4s\u001b[0m 59ms/step\n"
     ]
    },
    {
     "data": {
      "text/plain": [
       "array([0, 0, 0, ..., 3, 1, 1], dtype=int64)"
      ]
     },
     "execution_count": 59,
     "metadata": {},
     "output_type": "execute_result"
    }
   ],
   "source": [
    "predictions = np.argmax(model.predict(x_testcnn),axis = -1)\n",
    "             \n",
    "predictions"
   ]
  },
  {
   "cell_type": "code",
   "execution_count": 60,
   "id": "347d5bce",
   "metadata": {},
   "outputs": [
    {
     "name": "stdout",
     "output_type": "stream",
     "text": [
      "403     0\n",
      "2817    0\n",
      "8297    0\n",
      "8847    3\n",
      "5445    0\n",
      "       ..\n",
      "880     0\n",
      "1556    2\n",
      "701     3\n",
      "5549    1\n",
      "118     1\n",
      "Name: category, Length: 2005, dtype: int64\n"
     ]
    }
   ],
   "source": [
    "print(Y_test)"
   ]
  },
  {
   "cell_type": "code",
   "execution_count": 61,
   "id": "1ca0e71a",
   "metadata": {},
   "outputs": [
    {
     "data": {
      "text/plain": [
       "403     0\n",
       "2817    0\n",
       "8297    0\n",
       "8847    3\n",
       "5445    0\n",
       "       ..\n",
       "880     0\n",
       "1556    2\n",
       "701     3\n",
       "5549    1\n",
       "118     1\n",
       "Name: category, Length: 2005, dtype: int32"
      ]
     },
     "execution_count": 61,
     "metadata": {},
     "output_type": "execute_result"
    }
   ],
   "source": [
    "new_Ytest = Y_test.astype(int)\n",
    "\n",
    "new_Ytest\n"
   ]
  },
  {
   "cell_type": "code",
   "execution_count": 62,
   "id": "6cff4a97",
   "metadata": {},
   "outputs": [
    {
     "name": "stdout",
     "output_type": "stream",
     "text": [
      "              precision    recall  f1-score   support\n",
      "\n",
      "           0       0.97      0.81      0.88       429\n",
      "           1       0.94      0.82      0.88       677\n",
      "           2       0.82      0.92      0.86       390\n",
      "           3       0.75      0.91      0.82       509\n",
      "\n",
      "    accuracy                           0.86      2005\n",
      "   macro avg       0.87      0.87      0.86      2005\n",
      "weighted avg       0.88      0.86      0.86      2005\n",
      "\n"
     ]
    }
   ],
   "source": [
    "from sklearn.metrics import classification_report\n",
    "report = classification_report(new_Ytest, predictions)\n",
    "print(report)"
   ]
  },
  {
   "cell_type": "code",
   "execution_count": 38,
   "id": "19934395",
   "metadata": {},
   "outputs": [],
   "source": [
    "import keras"
   ]
  },
  {
   "cell_type": "code",
   "execution_count": 39,
   "id": "5653229e",
   "metadata": {},
   "outputs": [],
   "source": [
    "from keras.models import load_model\n",
    "\n",
    "# Assuming `model` is your Keras model object\n",
    "model.save('lstm_model.keras')"
   ]
  },
  {
   "cell_type": "code",
   "execution_count": 40,
   "id": "af772351",
   "metadata": {},
   "outputs": [],
   "source": [
    "# Load the saved model\n",
    "loaded_model = load_model('lstm_model.keras')\n"
   ]
  },
  {
   "cell_type": "code",
   "execution_count": 41,
   "id": "75555eeb",
   "metadata": {},
   "outputs": [],
   "source": [
    "audio = \"29_audio.wav\""
   ]
  },
  {
   "cell_type": "code",
   "execution_count": 42,
   "id": "6237e226",
   "metadata": {},
   "outputs": [
    {
     "name": "stdout",
     "output_type": "stream",
     "text": [
      "[0 0 0 3 0 2 1 3 0 1 0 3 2 1 3 1 3 3 2 3 0 1 3 3 1 2 1 1 3 3 0 1 0 1 0 1 0\n",
      " 0 3 0 1 0 1 0 1 1 0 1 2 3 3 2 3 3 3 3 2 1 3 3 2 1 2 3 1 3 0 1 3 2 3 1 3 2\n",
      " 2 0 1 0 1 0 1 1 0 1 1 1 0 1 1 1 1 0 1 1 3 0 0 1 0 1]\n"
     ]
    }
   ],
   "source": [
    "print(predictions[:100])"
   ]
  },
  {
   "cell_type": "code",
   "execution_count": 63,
   "id": "75e328fd",
   "metadata": {},
   "outputs": [
    {
     "name": "stdout",
     "output_type": "stream",
     "text": [
      "Final training accuracy: 0.8922155499458313\n",
      "Final validation accuracy: 0.8608478903770447\n",
      "10 \n",
      "\n",
      "10 \n",
      "\n",
      "10 \n",
      "\n",
      "10 \n",
      "\n"
     ]
    }
   ],
   "source": [
    "import matplotlib.pyplot as plt\n",
    "\n",
    "\n",
    "\n",
    "# Access training history\n",
    "train_acc = history.history['accuracy']\n",
    "train_loss = history.history['loss']\n",
    "val_acc = history.history['val_accuracy']\n",
    "val_loss = history.history['val_loss']\n",
    "epochs = range(1, 11)\n",
    "\n",
    "\n",
    "'''# Plot training and validation accuracy\n",
    "#plt.plot(epochs, train_acc, 'bo', label='Training accuracy')\n",
    "plt.plot(epochs, val_acc, 'r', label='Validation accuracy')\n",
    "plt.title('Training and validation accuracy')\n",
    "plt.xlabel('Epochs')\n",
    "plt.ylabel('Accuracy')\n",
    "plt.legend()\n",
    "plt.show()'''\n",
    "\n",
    "# Print final accuracy\n",
    "print(\"Final training accuracy:\", train_acc[-1])\n",
    "print(\"Final validation accuracy:\", val_acc[-1])\n",
    "\n",
    "print(len(train_acc),\"\\n\")\n",
    "print(len(train_loss),\"\\n\")\n",
    "print(len(val_acc),\"\\n\")\n",
    "print(len(val_loss),\"\\n\")"
   ]
  },
  {
   "cell_type": "code",
   "execution_count": 64,
   "id": "4859a102",
   "metadata": {},
   "outputs": [
    {
     "data": {
      "image/png": "[encoded data removed]",
      "text/plain": [
       "<Figure size 640x480 with 1 Axes>"
      ]
     },
     "metadata": {},
     "output_type": "display_data"
    }
   ],
   "source": [
    "\n",
    "# Plot training and validation accuracy\n",
    "plt.plot(epochs, train_acc, label='Training accuracy')\n",
    "plt.plot(epochs, val_acc, label='Validation accuracy')\n",
    "plt.title('Training and validation accuracy')\n",
    "plt.xlabel('Epochs')\n",
    "plt.ylabel('Accuracy')\n",
    "plt.legend()\n",
    "plt.show()"
   ]
  },
  {
   "cell_type": "code",
   "execution_count": 65,
   "id": "4f2d586a",
   "metadata": {},
   "outputs": [
    {
     "data": {
      "image/png": "[encoded data removed]",
      "text/plain": [
       "<Figure size 640x480 with 1 Axes>"
      ]
     },
     "metadata": {},
     "output_type": "display_data"
    }
   ],
   "source": [
    "plt.plot(epochs, train_loss, label='Training loss')\n",
    "plt.plot(epochs, val_loss, label='Validation loss')\n",
    "plt.title('Training and validation accuracy')\n",
    "plt.xlabel('Epochs')\n",
    "plt.ylabel('Accuracy')\n",
    "plt.legend()\n",
    "plt.show()"
   ]
  },
  {
   "cell_type": "code",
   "execution_count": 81,
   "id": "82fe268c",
   "metadata": {},
   "outputs": [],
   "source": [
    "X_train,X_test,Y_train,Y_test = train_test_split(X,Y, test_size=0.20,random_state=20)"
   ]
  },
  {
   "cell_type": "code",
   "execution_count": 82,
   "id": "b3507496",
   "metadata": {},
   "outputs": [],
   "source": [
    "y_train_encoded = tf.keras.utils.to_categorical(Y_train, num_classes=4)\n"
   ]
  },
  {
   "cell_type": "code",
   "execution_count": 83,
   "id": "ea06461c",
   "metadata": {},
   "outputs": [],
   "source": [
    "y_val_encoded = tf.keras.utils.to_categorical(Y_test, num_classes=4)"
   ]
  },
  {
   "cell_type": "code",
   "execution_count": 89,
   "id": "1d97feff",
   "metadata": {},
   "outputs": [
    {
     "name": "stdout",
     "output_type": "stream",
     "text": [
      "Epoch 1/10\n"
     ]
    },
    {
     "name": "stderr",
     "output_type": "stream",
     "text": [
      "C:\\Users\\Vaibhavi\\anaconda3\\Lib\\site-packages\\keras\\src\\layers\\core\\dense.py:88: UserWarning: Do not pass an `input_shape`/`input_dim` argument to a layer. When using Sequential models, prefer using an `Input(shape)` object as the first layer in the model instead.\n",
      "  super().__init__(activity_regularizer=activity_regularizer, **kwargs)\n"
     ]
    },
    {
     "name": "stdout",
     "output_type": "stream",
     "text": [
      "\u001b[1m251/251\u001b[0m \u001b[32m━━━━━━━━━━━━━━━━━━━━\u001b[0m\u001b[37m\u001b[0m \u001b[1m3s\u001b[0m 4ms/step - accuracy: 0.6995 - loss: 0.7239 - val_accuracy: 0.8539 - val_loss: 0.3692\n",
      "Epoch 2/10\n",
      "\u001b[1m251/251\u001b[0m \u001b[32m━━━━━━━━━━━━━━━━━━━━\u001b[0m\u001b[37m\u001b[0m \u001b[1m1s\u001b[0m 2ms/step - accuracy: 0.8684 - loss: 0.3249 - val_accuracy: 0.8703 - val_loss: 0.3076\n",
      "Epoch 3/10\n",
      "\u001b[1m251/251\u001b[0m \u001b[32m━━━━━━━━━━━━━━━━━━━━\u001b[0m\u001b[37m\u001b[0m \u001b[1m1s\u001b[0m 2ms/step - accuracy: 0.8808 - loss: 0.2807 - val_accuracy: 0.8898 - val_loss: 0.2603\n",
      "Epoch 4/10\n",
      "\u001b[1m251/251\u001b[0m \u001b[32m━━━━━━━━━━━━━━━━━━━━\u001b[0m\u001b[37m\u001b[0m \u001b[1m1s\u001b[0m 2ms/step - accuracy: 0.8917 - loss: 0.2484 - val_accuracy: 0.9002 - val_loss: 0.2490\n",
      "Epoch 5/10\n",
      "\u001b[1m251/251\u001b[0m \u001b[32m━━━━━━━━━━━━━━━━━━━━\u001b[0m\u001b[37m\u001b[0m \u001b[1m1s\u001b[0m 2ms/step - accuracy: 0.9047 - loss: 0.2267 - val_accuracy: 0.9037 - val_loss: 0.2391\n",
      "Epoch 6/10\n",
      "\u001b[1m251/251\u001b[0m \u001b[32m━━━━━━━━━━━━━━━━━━━━\u001b[0m\u001b[37m\u001b[0m \u001b[1m1s\u001b[0m 3ms/step - accuracy: 0.9073 - loss: 0.2135 - val_accuracy: 0.8993 - val_loss: 0.2316\n",
      "Epoch 7/10\n",
      "\u001b[1m251/251\u001b[0m \u001b[32m━━━━━━━━━━━━━━━━━━━━\u001b[0m\u001b[37m\u001b[0m \u001b[1m1s\u001b[0m 3ms/step - accuracy: 0.9191 - loss: 0.1856 - val_accuracy: 0.9127 - val_loss: 0.2157\n",
      "Epoch 8/10\n",
      "\u001b[1m251/251\u001b[0m \u001b[32m━━━━━━━━━━━━━━━━━━━━\u001b[0m\u001b[37m\u001b[0m \u001b[1m1s\u001b[0m 2ms/step - accuracy: 0.9252 - loss: 0.1695 - val_accuracy: 0.9162 - val_loss: 0.2047\n",
      "Epoch 9/10\n",
      "\u001b[1m251/251\u001b[0m \u001b[32m━━━━━━━━━━━━━━━━━━━━\u001b[0m\u001b[37m\u001b[0m \u001b[1m1s\u001b[0m 3ms/step - accuracy: 0.9353 - loss: 0.1593 - val_accuracy: 0.9107 - val_loss: 0.2174\n",
      "Epoch 10/10\n",
      "\u001b[1m251/251\u001b[0m \u001b[32m━━━━━━━━━━━━━━━━━━━━\u001b[0m\u001b[37m\u001b[0m \u001b[1m1s\u001b[0m 3ms/step - accuracy: 0.9424 - loss: 0.1423 - val_accuracy: 0.9207 - val_loss: 0.2059\n"
     ]
    }
   ],
   "source": [
    "import tensorflow as tf\n",
    "from tensorflow.keras.models import Sequential\n",
    "from tensorflow.keras.layers import Dense\n",
    "\n",
    "# Define your model\n",
    "model_mlp = Sequential([\n",
    "    Dense(64, activation='relu', input_shape=(59,)),\n",
    "    Dense(64, activation='relu'),\n",
    "    Dense(4, activation='softmax')  # Assuming you have 4 output classes\n",
    "])\n",
    "\n",
    "# Compile the model\n",
    "model_mlp.compile(optimizer='adam', loss='categorical_crossentropy', metrics=['accuracy'])\n",
    "\n",
    "# Train the model\n",
    "history_mlp = model_mlp.fit(X_train, y_train_encoded, epochs=10, batch_size=32, validation_data=(X_test, y_val_encoded))\n"
   ]
  },
  {
   "cell_type": "code",
   "execution_count": 91,
   "id": "7e05ce05",
   "metadata": {},
   "outputs": [
    {
     "name": "stdout",
     "output_type": "stream",
     "text": [
      "Final training accuracy: 0.9393712282180786\n",
      "Final validation accuracy: 0.9206982254981995\n",
      "10 \n",
      "\n",
      "10 \n",
      "\n",
      "10 \n",
      "\n",
      "10 \n",
      "\n"
     ]
    }
   ],
   "source": [
    "\n",
    "# Access training history\n",
    "train_acc = history_mlp.history['accuracy']\n",
    "train_loss = history_mlp.history['loss']\n",
    "val_acc = history_mlp.history['val_accuracy']\n",
    "val_loss = history_mlp.history['val_loss']\n",
    "epochs = range(1, 11)\n",
    "\n",
    "\n",
    "'''# Plot training and validation accuracy\n",
    "#plt.plot(epochs, train_acc, 'bo', label='Training accuracy')\n",
    "plt.plot(epochs, val_acc, 'r', label='Validation accuracy')\n",
    "plt.title('Training and validation accuracy')\n",
    "plt.xlabel('Epochs')\n",
    "plt.ylabel('Accuracy')\n",
    "plt.legend()\n",
    "plt.show()'''\n",
    "\n",
    "# Print final accuracy\n",
    "print(\"Final training accuracy:\", train_acc[-1])\n",
    "print(\"Final validation accuracy:\", val_acc[-1])\n",
    "\n",
    "print(len(train_acc),\"\\n\")\n",
    "print(len(train_loss),\"\\n\")\n",
    "print(len(val_acc),\"\\n\")\n",
    "print(len(val_loss),\"\\n\")"
   ]
  },
  {
   "cell_type": "code",
   "execution_count": 92,
   "id": "0a46a242",
   "metadata": {},
   "outputs": [
    {
     "data": {
      "image/png": "[encoded data removed]",
      "text/plain": [
       "<Figure size 640x480 with 1 Axes>"
      ]
     },
     "metadata": {},
     "output_type": "display_data"
    }
   ],
   "source": [
    "# Plot training and validation accuracy\n",
    "plt.plot(epochs, train_acc, label='Training accuracy')\n",
    "plt.plot(epochs, val_acc, label='Validation accuracy')\n",
    "plt.title('Training and validation accuracy')\n",
    "plt.xlabel('Epochs')\n",
    "plt.ylabel('Accuracy')\n",
    "plt.legend()\n",
    "plt.show()"
   ]
  },
  {
   "cell_type": "code",
   "execution_count": 93,
   "id": "86beaf50",
   "metadata": {},
   "outputs": [
    {
     "data": {
      "image/png": "[encoded data removed]",
      "text/plain": [
       "<Figure size 640x480 with 1 Axes>"
      ]
     },
     "metadata": {},
     "output_type": "display_data"
    }
   ],
   "source": [
    "plt.plot(epochs, train_loss, label='Training loss')\n",
    "plt.plot(epochs, val_loss, label='Validation loss')\n",
    "plt.title('Training and validation accuracy')\n",
    "plt.xlabel('Epochs')\n",
    "plt.ylabel('Accuracy')\n",
    "plt.legend()\n",
    "plt.show()"
   ]
  },
  {
   "cell_type": "code",
   "execution_count": 95,
   "id": "26cdd87f",
   "metadata": {},
   "outputs": [],
   "source": [
    "from keras.models import load_model\n",
    "\n",
    "# Assuming `model` is your Keras model object\n",
    "model_mlp.save('mlp_model.keras')"
   ]
  },
  {
   "cell_type": "code",
   "execution_count": 96,
   "id": "473c1a93",
   "metadata": {},
   "outputs": [],
   "source": [
    "# Load the saved model\n",
    "mlp_load_model = load_model('mlp_model.keras')\n"
   ]
  },
  {
   "cell_type": "code",
   "execution_count": 97,
   "id": "878228df",
   "metadata": {},
   "outputs": [
    {
     "name": "stdout",
     "output_type": "stream",
     "text": [
      "\u001b[1m63/63\u001b[0m \u001b[32m━━━━━━━━━━━━━━━━━━━━\u001b[0m\u001b[37m\u001b[0m \u001b[1m0s\u001b[0m 2ms/step\n"
     ]
    },
    {
     "data": {
      "text/plain": [
       "array([0, 3, 0, ..., 3, 1, 1], dtype=int64)"
      ]
     },
     "execution_count": 97,
     "metadata": {},
     "output_type": "execute_result"
    }
   ],
   "source": [
    "predictions = np.argmax(model_mlp.predict(X_test),axis = -1)\n",
    "             \n",
    "predictions"
   ]
  },
  {
   "cell_type": "code",
   "execution_count": 99,
   "id": "ca9340b5",
   "metadata": {},
   "outputs": [
    {
     "name": "stdout",
     "output_type": "stream",
     "text": [
      "              precision    recall  f1-score   support\n",
      "\n",
      "           0       0.96      0.94      0.95       429\n",
      "           1       0.89      0.94      0.92       677\n",
      "           2       0.94      0.93      0.94       390\n",
      "           3       0.91      0.86      0.88       509\n",
      "\n",
      "    accuracy                           0.92      2005\n",
      "   macro avg       0.93      0.92      0.92      2005\n",
      "weighted avg       0.92      0.92      0.92      2005\n",
      "\n"
     ]
    }
   ],
   "source": [
    "from sklearn.metrics import classification_report\n",
    "report = classification_report(Y_test, predictions)\n",
    "print(report)"
   ]
  },
  {
   "cell_type": "code",
   "execution_count": null,
   "id": "1c68c683",
   "metadata": {},
   "outputs": [],
   "source": []
  }
 ],
 "metadata": {
  "kernelspec": {
   "display_name": "Python 3 (ipykernel)",
   "language": "python",
   "name": "python3"
  },
  "language_info": {
   "codemirror_mode": {
    "name": "ipython",
    "version": 3
   },
   "file_extension": ".py",
   "mimetype": "text/x-python",
   "name": "python",
   "nbconvert_exporter": "python",
   "pygments_lexer": "ipython3",
   "version": "3.11.5"
  }
 },
 "nbformat": 4,
 "nbformat_minor": 5
}
